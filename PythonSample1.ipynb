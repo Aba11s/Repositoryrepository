{
 "cells": [
  {
   "cell_type": "code",
   "execution_count": 1,
   "id": "410bf052",
   "metadata": {},
   "outputs": [
    {
     "name": "stdout",
     "output_type": "stream",
     "text": [
      "Input your equation here (type help if u bad):help\n",
      "list of operators: +, -, *, /\n",
      "example: 5 * 16 (use SPACE to seperate number and operator)\n",
      "\n",
      "Input your equation here (type help if u bad):6 * 7\n",
      "\n",
      "The answer is = 42.0\n",
      "\n"
     ]
    }
   ],
   "source": [
    "def simpleCalc():\n",
    "\n",
    "    while True:\n",
    "        userInput = input('Input your equation here (type help if u bad):')\n",
    "        if userInput == \"help\":\n",
    "            print('list of operators: +, -, *, /')\n",
    "            print('example: 5 * 16 (use SPACE to seperate number and operator)')\n",
    "            print('')\n",
    "        else:\n",
    "            break\n",
    "\n",
    "    uIList = userInput.split()\n",
    "\n",
    "    if (len(uIList) < 3) or (len(uIList) > 3):\n",
    "        print(f'Your input is INVALID, type help for help')\n",
    "        print(f'Your input: {userInput}')\n",
    "        print(f'')\n",
    "        simpleCalc()\n",
    "    \n",
    "    try:\n",
    "        num1 = int(uIList[0])\n",
    "        num2 = int(uIList[2])\n",
    "    except ValueError:\n",
    "        print (f'please enter an integer')\n",
    "        print (f'')\n",
    "        simpleCalc()\n",
    "    \n",
    "    opr = uIList[1]\n",
    "    if opr == \"+\":\n",
    "        ans = num1 + num2\n",
    "    elif opr == \"-\":\n",
    "        ans = num1 - num2\n",
    "    elif opr == \"*\":\n",
    "        ans = num1 * num2\n",
    "    elif opr == \"/\":\n",
    "        ans = num1 / num2\n",
    "    else:\n",
    "        print(f'{opr} is not a valid operator')\n",
    "        print(f'')\n",
    "        simpleCalc()\n",
    "\n",
    "    print(f'')\n",
    "    print(f'The answer is = {float(ans)}')\n",
    "    print(f'')\n",
    "    \n",
    "simpleCalc()\n"
   ]
  },
  {
   "cell_type": "code",
   "execution_count": null,
   "id": "246ba4e2",
   "metadata": {},
   "outputs": [],
   "source": []
  }
 ],
 "metadata": {
  "kernelspec": {
   "display_name": "Python 3 (ipykernel)",
   "language": "python",
   "name": "python3"
  },
  "language_info": {
   "codemirror_mode": {
    "name": "ipython",
    "version": 3
   },
   "file_extension": ".py",
   "mimetype": "text/x-python",
   "name": "python",
   "nbconvert_exporter": "python",
   "pygments_lexer": "ipython3",
   "version": "3.11.4"
  }
 },
 "nbformat": 4,
 "nbformat_minor": 5
}
